{
  "nbformat": 4,
  "nbformat_minor": 0,
  "metadata": {
    "colab": {
      "provenance": [],
      "gpuType": "T4",
      "include_colab_link": true
    },
    "kernelspec": {
      "name": "python3",
      "display_name": "Python 3"
    },
    "language_info": {
      "name": "python"
    },
    "accelerator": "GPU",
    "widgets": {
      "application/vnd.jupyter.widget-state+json": {
        "a50af22f7c5d48df9e75f36d06f463c1": {
          "model_module": "@jupyter-widgets/controls",
          "model_name": "HBoxModel",
          "model_module_version": "1.5.0",
          "state": {
            "_dom_classes": [],
            "_model_module": "@jupyter-widgets/controls",
            "_model_module_version": "1.5.0",
            "_model_name": "HBoxModel",
            "_view_count": null,
            "_view_module": "@jupyter-widgets/controls",
            "_view_module_version": "1.5.0",
            "_view_name": "HBoxView",
            "box_style": "",
            "children": [
              "IPY_MODEL_683f2024be5a41a985c423a984ced039",
              "IPY_MODEL_6b627619059b4dc1b33e1dad5f1beaec",
              "IPY_MODEL_1dd0158126ee49dfbd2d1ecbf5f7256e"
            ],
            "layout": "IPY_MODEL_0a5b85a29a4e42e89ecfe9ce06b2b490"
          }
        },
        "683f2024be5a41a985c423a984ced039": {
          "model_module": "@jupyter-widgets/controls",
          "model_name": "HTMLModel",
          "model_module_version": "1.5.0",
          "state": {
            "_dom_classes": [],
            "_model_module": "@jupyter-widgets/controls",
            "_model_module_version": "1.5.0",
            "_model_name": "HTMLModel",
            "_view_count": null,
            "_view_module": "@jupyter-widgets/controls",
            "_view_module_version": "1.5.0",
            "_view_name": "HTMLView",
            "description": "",
            "description_tooltip": null,
            "layout": "IPY_MODEL_12d88fc200ce4be19be700f03185d3b8",
            "placeholder": "​",
            "style": "IPY_MODEL_8196f438e3984ea59692baf763ef77cc",
            "value": "Loading pipeline components...: 100%"
          }
        },
        "6b627619059b4dc1b33e1dad5f1beaec": {
          "model_module": "@jupyter-widgets/controls",
          "model_name": "FloatProgressModel",
          "model_module_version": "1.5.0",
          "state": {
            "_dom_classes": [],
            "_model_module": "@jupyter-widgets/controls",
            "_model_module_version": "1.5.0",
            "_model_name": "FloatProgressModel",
            "_view_count": null,
            "_view_module": "@jupyter-widgets/controls",
            "_view_module_version": "1.5.0",
            "_view_name": "ProgressView",
            "bar_style": "success",
            "description": "",
            "description_tooltip": null,
            "layout": "IPY_MODEL_b95ab1412a0441d794e01eb02ce1a925",
            "max": 3,
            "min": 0,
            "orientation": "horizontal",
            "style": "IPY_MODEL_189119fc6889407fa7a4fda2e214a6ad",
            "value": 3
          }
        },
        "1dd0158126ee49dfbd2d1ecbf5f7256e": {
          "model_module": "@jupyter-widgets/controls",
          "model_name": "HTMLModel",
          "model_module_version": "1.5.0",
          "state": {
            "_dom_classes": [],
            "_model_module": "@jupyter-widgets/controls",
            "_model_module_version": "1.5.0",
            "_model_name": "HTMLModel",
            "_view_count": null,
            "_view_module": "@jupyter-widgets/controls",
            "_view_module_version": "1.5.0",
            "_view_name": "HTMLView",
            "description": "",
            "description_tooltip": null,
            "layout": "IPY_MODEL_075a114178d34ace88290883ebd50b8d",
            "placeholder": "​",
            "style": "IPY_MODEL_0ef7f75250d940b68ab10f6bdaf6c844",
            "value": " 3/3 [00:22&lt;00:00, 12.71s/it]"
          }
        },
        "0a5b85a29a4e42e89ecfe9ce06b2b490": {
          "model_module": "@jupyter-widgets/base",
          "model_name": "LayoutModel",
          "model_module_version": "1.2.0",
          "state": {
            "_model_module": "@jupyter-widgets/base",
            "_model_module_version": "1.2.0",
            "_model_name": "LayoutModel",
            "_view_count": null,
            "_view_module": "@jupyter-widgets/base",
            "_view_module_version": "1.2.0",
            "_view_name": "LayoutView",
            "align_content": null,
            "align_items": null,
            "align_self": null,
            "border": null,
            "bottom": null,
            "display": null,
            "flex": null,
            "flex_flow": null,
            "grid_area": null,
            "grid_auto_columns": null,
            "grid_auto_flow": null,
            "grid_auto_rows": null,
            "grid_column": null,
            "grid_gap": null,
            "grid_row": null,
            "grid_template_areas": null,
            "grid_template_columns": null,
            "grid_template_rows": null,
            "height": null,
            "justify_content": null,
            "justify_items": null,
            "left": null,
            "margin": null,
            "max_height": null,
            "max_width": null,
            "min_height": null,
            "min_width": null,
            "object_fit": null,
            "object_position": null,
            "order": null,
            "overflow": null,
            "overflow_x": null,
            "overflow_y": null,
            "padding": null,
            "right": null,
            "top": null,
            "visibility": null,
            "width": null
          }
        },
        "12d88fc200ce4be19be700f03185d3b8": {
          "model_module": "@jupyter-widgets/base",
          "model_name": "LayoutModel",
          "model_module_version": "1.2.0",
          "state": {
            "_model_module": "@jupyter-widgets/base",
            "_model_module_version": "1.2.0",
            "_model_name": "LayoutModel",
            "_view_count": null,
            "_view_module": "@jupyter-widgets/base",
            "_view_module_version": "1.2.0",
            "_view_name": "LayoutView",
            "align_content": null,
            "align_items": null,
            "align_self": null,
            "border": null,
            "bottom": null,
            "display": null,
            "flex": null,
            "flex_flow": null,
            "grid_area": null,
            "grid_auto_columns": null,
            "grid_auto_flow": null,
            "grid_auto_rows": null,
            "grid_column": null,
            "grid_gap": null,
            "grid_row": null,
            "grid_template_areas": null,
            "grid_template_columns": null,
            "grid_template_rows": null,
            "height": null,
            "justify_content": null,
            "justify_items": null,
            "left": null,
            "margin": null,
            "max_height": null,
            "max_width": null,
            "min_height": null,
            "min_width": null,
            "object_fit": null,
            "object_position": null,
            "order": null,
            "overflow": null,
            "overflow_x": null,
            "overflow_y": null,
            "padding": null,
            "right": null,
            "top": null,
            "visibility": null,
            "width": null
          }
        },
        "8196f438e3984ea59692baf763ef77cc": {
          "model_module": "@jupyter-widgets/controls",
          "model_name": "DescriptionStyleModel",
          "model_module_version": "1.5.0",
          "state": {
            "_model_module": "@jupyter-widgets/controls",
            "_model_module_version": "1.5.0",
            "_model_name": "DescriptionStyleModel",
            "_view_count": null,
            "_view_module": "@jupyter-widgets/base",
            "_view_module_version": "1.2.0",
            "_view_name": "StyleView",
            "description_width": ""
          }
        },
        "b95ab1412a0441d794e01eb02ce1a925": {
          "model_module": "@jupyter-widgets/base",
          "model_name": "LayoutModel",
          "model_module_version": "1.2.0",
          "state": {
            "_model_module": "@jupyter-widgets/base",
            "_model_module_version": "1.2.0",
            "_model_name": "LayoutModel",
            "_view_count": null,
            "_view_module": "@jupyter-widgets/base",
            "_view_module_version": "1.2.0",
            "_view_name": "LayoutView",
            "align_content": null,
            "align_items": null,
            "align_self": null,
            "border": null,
            "bottom": null,
            "display": null,
            "flex": null,
            "flex_flow": null,
            "grid_area": null,
            "grid_auto_columns": null,
            "grid_auto_flow": null,
            "grid_auto_rows": null,
            "grid_column": null,
            "grid_gap": null,
            "grid_row": null,
            "grid_template_areas": null,
            "grid_template_columns": null,
            "grid_template_rows": null,
            "height": null,
            "justify_content": null,
            "justify_items": null,
            "left": null,
            "margin": null,
            "max_height": null,
            "max_width": null,
            "min_height": null,
            "min_width": null,
            "object_fit": null,
            "object_position": null,
            "order": null,
            "overflow": null,
            "overflow_x": null,
            "overflow_y": null,
            "padding": null,
            "right": null,
            "top": null,
            "visibility": null,
            "width": null
          }
        },
        "189119fc6889407fa7a4fda2e214a6ad": {
          "model_module": "@jupyter-widgets/controls",
          "model_name": "ProgressStyleModel",
          "model_module_version": "1.5.0",
          "state": {
            "_model_module": "@jupyter-widgets/controls",
            "_model_module_version": "1.5.0",
            "_model_name": "ProgressStyleModel",
            "_view_count": null,
            "_view_module": "@jupyter-widgets/base",
            "_view_module_version": "1.2.0",
            "_view_name": "StyleView",
            "bar_color": null,
            "description_width": ""
          }
        },
        "075a114178d34ace88290883ebd50b8d": {
          "model_module": "@jupyter-widgets/base",
          "model_name": "LayoutModel",
          "model_module_version": "1.2.0",
          "state": {
            "_model_module": "@jupyter-widgets/base",
            "_model_module_version": "1.2.0",
            "_model_name": "LayoutModel",
            "_view_count": null,
            "_view_module": "@jupyter-widgets/base",
            "_view_module_version": "1.2.0",
            "_view_name": "LayoutView",
            "align_content": null,
            "align_items": null,
            "align_self": null,
            "border": null,
            "bottom": null,
            "display": null,
            "flex": null,
            "flex_flow": null,
            "grid_area": null,
            "grid_auto_columns": null,
            "grid_auto_flow": null,
            "grid_auto_rows": null,
            "grid_column": null,
            "grid_gap": null,
            "grid_row": null,
            "grid_template_areas": null,
            "grid_template_columns": null,
            "grid_template_rows": null,
            "height": null,
            "justify_content": null,
            "justify_items": null,
            "left": null,
            "margin": null,
            "max_height": null,
            "max_width": null,
            "min_height": null,
            "min_width": null,
            "object_fit": null,
            "object_position": null,
            "order": null,
            "overflow": null,
            "overflow_x": null,
            "overflow_y": null,
            "padding": null,
            "right": null,
            "top": null,
            "visibility": null,
            "width": null
          }
        },
        "0ef7f75250d940b68ab10f6bdaf6c844": {
          "model_module": "@jupyter-widgets/controls",
          "model_name": "DescriptionStyleModel",
          "model_module_version": "1.5.0",
          "state": {
            "_model_module": "@jupyter-widgets/controls",
            "_model_module_version": "1.5.0",
            "_model_name": "DescriptionStyleModel",
            "_view_count": null,
            "_view_module": "@jupyter-widgets/base",
            "_view_module_version": "1.2.0",
            "_view_name": "StyleView",
            "description_width": ""
          }
        },
        "67bb52a6bf464782a26840c57cab12c4": {
          "model_module": "@jupyter-widgets/controls",
          "model_name": "HBoxModel",
          "model_module_version": "1.5.0",
          "state": {
            "_dom_classes": [],
            "_model_module": "@jupyter-widgets/controls",
            "_model_module_version": "1.5.0",
            "_model_name": "HBoxModel",
            "_view_count": null,
            "_view_module": "@jupyter-widgets/controls",
            "_view_module_version": "1.5.0",
            "_view_name": "HBoxView",
            "box_style": "",
            "children": [
              "IPY_MODEL_401db193a96843eaa1512de8c574b496",
              "IPY_MODEL_2761d55af3474f7396cfb88af4d04ba3",
              "IPY_MODEL_9c80a5bc7cb542949895bb5e74bbadf9"
            ],
            "layout": "IPY_MODEL_3f8857f01eae45ee9ec6be0084118410"
          }
        },
        "401db193a96843eaa1512de8c574b496": {
          "model_module": "@jupyter-widgets/controls",
          "model_name": "HTMLModel",
          "model_module_version": "1.5.0",
          "state": {
            "_dom_classes": [],
            "_model_module": "@jupyter-widgets/controls",
            "_model_module_version": "1.5.0",
            "_model_name": "HTMLModel",
            "_view_count": null,
            "_view_module": "@jupyter-widgets/controls",
            "_view_module_version": "1.5.0",
            "_view_name": "HTMLView",
            "description": "",
            "description_tooltip": null,
            "layout": "IPY_MODEL_95993e1361af473a9a1282cdce4a1ef7",
            "placeholder": "​",
            "style": "IPY_MODEL_f20cb8dd4b8b4e25a4e5ac026c75713f",
            "value": "Loading pipeline components...: 100%"
          }
        },
        "2761d55af3474f7396cfb88af4d04ba3": {
          "model_module": "@jupyter-widgets/controls",
          "model_name": "FloatProgressModel",
          "model_module_version": "1.5.0",
          "state": {
            "_dom_classes": [],
            "_model_module": "@jupyter-widgets/controls",
            "_model_module_version": "1.5.0",
            "_model_name": "FloatProgressModel",
            "_view_count": null,
            "_view_module": "@jupyter-widgets/controls",
            "_view_module_version": "1.5.0",
            "_view_name": "ProgressView",
            "bar_style": "success",
            "description": "",
            "description_tooltip": null,
            "layout": "IPY_MODEL_b3038759e760451bad5ce00fbb05eedb",
            "max": 6,
            "min": 0,
            "orientation": "horizontal",
            "style": "IPY_MODEL_bd996cbf8e844a09a28b90efdce12f08",
            "value": 6
          }
        },
        "9c80a5bc7cb542949895bb5e74bbadf9": {
          "model_module": "@jupyter-widgets/controls",
          "model_name": "HTMLModel",
          "model_module_version": "1.5.0",
          "state": {
            "_dom_classes": [],
            "_model_module": "@jupyter-widgets/controls",
            "_model_module_version": "1.5.0",
            "_model_name": "HTMLModel",
            "_view_count": null,
            "_view_module": "@jupyter-widgets/controls",
            "_view_module_version": "1.5.0",
            "_view_name": "HTMLView",
            "description": "",
            "description_tooltip": null,
            "layout": "IPY_MODEL_9edeaa691bc14ac3a33c7df8baddc438",
            "placeholder": "​",
            "style": "IPY_MODEL_a44c4575fce04151af40669e79562539",
            "value": " 6/6 [00:31&lt;00:00,  4.30s/it]"
          }
        },
        "3f8857f01eae45ee9ec6be0084118410": {
          "model_module": "@jupyter-widgets/base",
          "model_name": "LayoutModel",
          "model_module_version": "1.2.0",
          "state": {
            "_model_module": "@jupyter-widgets/base",
            "_model_module_version": "1.2.0",
            "_model_name": "LayoutModel",
            "_view_count": null,
            "_view_module": "@jupyter-widgets/base",
            "_view_module_version": "1.2.0",
            "_view_name": "LayoutView",
            "align_content": null,
            "align_items": null,
            "align_self": null,
            "border": null,
            "bottom": null,
            "display": null,
            "flex": null,
            "flex_flow": null,
            "grid_area": null,
            "grid_auto_columns": null,
            "grid_auto_flow": null,
            "grid_auto_rows": null,
            "grid_column": null,
            "grid_gap": null,
            "grid_row": null,
            "grid_template_areas": null,
            "grid_template_columns": null,
            "grid_template_rows": null,
            "height": null,
            "justify_content": null,
            "justify_items": null,
            "left": null,
            "margin": null,
            "max_height": null,
            "max_width": null,
            "min_height": null,
            "min_width": null,
            "object_fit": null,
            "object_position": null,
            "order": null,
            "overflow": null,
            "overflow_x": null,
            "overflow_y": null,
            "padding": null,
            "right": null,
            "top": null,
            "visibility": null,
            "width": null
          }
        },
        "95993e1361af473a9a1282cdce4a1ef7": {
          "model_module": "@jupyter-widgets/base",
          "model_name": "LayoutModel",
          "model_module_version": "1.2.0",
          "state": {
            "_model_module": "@jupyter-widgets/base",
            "_model_module_version": "1.2.0",
            "_model_name": "LayoutModel",
            "_view_count": null,
            "_view_module": "@jupyter-widgets/base",
            "_view_module_version": "1.2.0",
            "_view_name": "LayoutView",
            "align_content": null,
            "align_items": null,
            "align_self": null,
            "border": null,
            "bottom": null,
            "display": null,
            "flex": null,
            "flex_flow": null,
            "grid_area": null,
            "grid_auto_columns": null,
            "grid_auto_flow": null,
            "grid_auto_rows": null,
            "grid_column": null,
            "grid_gap": null,
            "grid_row": null,
            "grid_template_areas": null,
            "grid_template_columns": null,
            "grid_template_rows": null,
            "height": null,
            "justify_content": null,
            "justify_items": null,
            "left": null,
            "margin": null,
            "max_height": null,
            "max_width": null,
            "min_height": null,
            "min_width": null,
            "object_fit": null,
            "object_position": null,
            "order": null,
            "overflow": null,
            "overflow_x": null,
            "overflow_y": null,
            "padding": null,
            "right": null,
            "top": null,
            "visibility": null,
            "width": null
          }
        },
        "f20cb8dd4b8b4e25a4e5ac026c75713f": {
          "model_module": "@jupyter-widgets/controls",
          "model_name": "DescriptionStyleModel",
          "model_module_version": "1.5.0",
          "state": {
            "_model_module": "@jupyter-widgets/controls",
            "_model_module_version": "1.5.0",
            "_model_name": "DescriptionStyleModel",
            "_view_count": null,
            "_view_module": "@jupyter-widgets/base",
            "_view_module_version": "1.2.0",
            "_view_name": "StyleView",
            "description_width": ""
          }
        },
        "b3038759e760451bad5ce00fbb05eedb": {
          "model_module": "@jupyter-widgets/base",
          "model_name": "LayoutModel",
          "model_module_version": "1.2.0",
          "state": {
            "_model_module": "@jupyter-widgets/base",
            "_model_module_version": "1.2.0",
            "_model_name": "LayoutModel",
            "_view_count": null,
            "_view_module": "@jupyter-widgets/base",
            "_view_module_version": "1.2.0",
            "_view_name": "LayoutView",
            "align_content": null,
            "align_items": null,
            "align_self": null,
            "border": null,
            "bottom": null,
            "display": null,
            "flex": null,
            "flex_flow": null,
            "grid_area": null,
            "grid_auto_columns": null,
            "grid_auto_flow": null,
            "grid_auto_rows": null,
            "grid_column": null,
            "grid_gap": null,
            "grid_row": null,
            "grid_template_areas": null,
            "grid_template_columns": null,
            "grid_template_rows": null,
            "height": null,
            "justify_content": null,
            "justify_items": null,
            "left": null,
            "margin": null,
            "max_height": null,
            "max_width": null,
            "min_height": null,
            "min_width": null,
            "object_fit": null,
            "object_position": null,
            "order": null,
            "overflow": null,
            "overflow_x": null,
            "overflow_y": null,
            "padding": null,
            "right": null,
            "top": null,
            "visibility": null,
            "width": null
          }
        },
        "bd996cbf8e844a09a28b90efdce12f08": {
          "model_module": "@jupyter-widgets/controls",
          "model_name": "ProgressStyleModel",
          "model_module_version": "1.5.0",
          "state": {
            "_model_module": "@jupyter-widgets/controls",
            "_model_module_version": "1.5.0",
            "_model_name": "ProgressStyleModel",
            "_view_count": null,
            "_view_module": "@jupyter-widgets/base",
            "_view_module_version": "1.2.0",
            "_view_name": "StyleView",
            "bar_color": null,
            "description_width": ""
          }
        },
        "9edeaa691bc14ac3a33c7df8baddc438": {
          "model_module": "@jupyter-widgets/base",
          "model_name": "LayoutModel",
          "model_module_version": "1.2.0",
          "state": {
            "_model_module": "@jupyter-widgets/base",
            "_model_module_version": "1.2.0",
            "_model_name": "LayoutModel",
            "_view_count": null,
            "_view_module": "@jupyter-widgets/base",
            "_view_module_version": "1.2.0",
            "_view_name": "LayoutView",
            "align_content": null,
            "align_items": null,
            "align_self": null,
            "border": null,
            "bottom": null,
            "display": null,
            "flex": null,
            "flex_flow": null,
            "grid_area": null,
            "grid_auto_columns": null,
            "grid_auto_flow": null,
            "grid_auto_rows": null,
            "grid_column": null,
            "grid_gap": null,
            "grid_row": null,
            "grid_template_areas": null,
            "grid_template_columns": null,
            "grid_template_rows": null,
            "height": null,
            "justify_content": null,
            "justify_items": null,
            "left": null,
            "margin": null,
            "max_height": null,
            "max_width": null,
            "min_height": null,
            "min_width": null,
            "object_fit": null,
            "object_position": null,
            "order": null,
            "overflow": null,
            "overflow_x": null,
            "overflow_y": null,
            "padding": null,
            "right": null,
            "top": null,
            "visibility": null,
            "width": null
          }
        },
        "a44c4575fce04151af40669e79562539": {
          "model_module": "@jupyter-widgets/controls",
          "model_name": "DescriptionStyleModel",
          "model_module_version": "1.5.0",
          "state": {
            "_model_module": "@jupyter-widgets/controls",
            "_model_module_version": "1.5.0",
            "_model_name": "DescriptionStyleModel",
            "_view_count": null,
            "_view_module": "@jupyter-widgets/base",
            "_view_module_version": "1.2.0",
            "_view_name": "StyleView",
            "description_width": ""
          }
        },
        "234e91b0af6947dfbf6ecd34b5120ebd": {
          "model_module": "@jupyter-widgets/controls",
          "model_name": "HBoxModel",
          "model_module_version": "1.5.0",
          "state": {
            "_dom_classes": [],
            "_model_module": "@jupyter-widgets/controls",
            "_model_module_version": "1.5.0",
            "_model_name": "HBoxModel",
            "_view_count": null,
            "_view_module": "@jupyter-widgets/controls",
            "_view_module_version": "1.5.0",
            "_view_name": "HBoxView",
            "box_style": "",
            "children": [
              "IPY_MODEL_b2f06445c3c7415dafa1ca92dfd38938",
              "IPY_MODEL_d2335718044e49b6abcf65126edef29f",
              "IPY_MODEL_cbe96f487eca4285a141f1253e20332e"
            ],
            "layout": "IPY_MODEL_07259f72ab7747daa1f7c977ef5f4004"
          }
        },
        "b2f06445c3c7415dafa1ca92dfd38938": {
          "model_module": "@jupyter-widgets/controls",
          "model_name": "HTMLModel",
          "model_module_version": "1.5.0",
          "state": {
            "_dom_classes": [],
            "_model_module": "@jupyter-widgets/controls",
            "_model_module_version": "1.5.0",
            "_model_name": "HTMLModel",
            "_view_count": null,
            "_view_module": "@jupyter-widgets/controls",
            "_view_module_version": "1.5.0",
            "_view_name": "HTMLView",
            "description": "",
            "description_tooltip": null,
            "layout": "IPY_MODEL_0541f15149984438954b8319a0eae5c1",
            "placeholder": "​",
            "style": "IPY_MODEL_ccb850ea14ed4d4094cf87321dde603d",
            "value": "100%"
          }
        },
        "d2335718044e49b6abcf65126edef29f": {
          "model_module": "@jupyter-widgets/controls",
          "model_name": "FloatProgressModel",
          "model_module_version": "1.5.0",
          "state": {
            "_dom_classes": [],
            "_model_module": "@jupyter-widgets/controls",
            "_model_module_version": "1.5.0",
            "_model_name": "FloatProgressModel",
            "_view_count": null,
            "_view_module": "@jupyter-widgets/controls",
            "_view_module_version": "1.5.0",
            "_view_name": "ProgressView",
            "bar_style": "success",
            "description": "",
            "description_tooltip": null,
            "layout": "IPY_MODEL_3ff8ff820111480ca10e4f1eaa56a1e5",
            "max": 25,
            "min": 0,
            "orientation": "horizontal",
            "style": "IPY_MODEL_afd27ff50d254c379a9d7d4c32867f44",
            "value": 25
          }
        },
        "cbe96f487eca4285a141f1253e20332e": {
          "model_module": "@jupyter-widgets/controls",
          "model_name": "HTMLModel",
          "model_module_version": "1.5.0",
          "state": {
            "_dom_classes": [],
            "_model_module": "@jupyter-widgets/controls",
            "_model_module_version": "1.5.0",
            "_model_name": "HTMLModel",
            "_view_count": null,
            "_view_module": "@jupyter-widgets/controls",
            "_view_module_version": "1.5.0",
            "_view_name": "HTMLView",
            "description": "",
            "description_tooltip": null,
            "layout": "IPY_MODEL_5b972e38cfaa46e4ba231407e194db1f",
            "placeholder": "​",
            "style": "IPY_MODEL_8dd7efc34f09413289600ba6d65b122f",
            "value": " 25/25 [00:01&lt;00:00, 21.64it/s]"
          }
        },
        "07259f72ab7747daa1f7c977ef5f4004": {
          "model_module": "@jupyter-widgets/base",
          "model_name": "LayoutModel",
          "model_module_version": "1.2.0",
          "state": {
            "_model_module": "@jupyter-widgets/base",
            "_model_module_version": "1.2.0",
            "_model_name": "LayoutModel",
            "_view_count": null,
            "_view_module": "@jupyter-widgets/base",
            "_view_module_version": "1.2.0",
            "_view_name": "LayoutView",
            "align_content": null,
            "align_items": null,
            "align_self": null,
            "border": null,
            "bottom": null,
            "display": null,
            "flex": null,
            "flex_flow": null,
            "grid_area": null,
            "grid_auto_columns": null,
            "grid_auto_flow": null,
            "grid_auto_rows": null,
            "grid_column": null,
            "grid_gap": null,
            "grid_row": null,
            "grid_template_areas": null,
            "grid_template_columns": null,
            "grid_template_rows": null,
            "height": null,
            "justify_content": null,
            "justify_items": null,
            "left": null,
            "margin": null,
            "max_height": null,
            "max_width": null,
            "min_height": null,
            "min_width": null,
            "object_fit": null,
            "object_position": null,
            "order": null,
            "overflow": null,
            "overflow_x": null,
            "overflow_y": null,
            "padding": null,
            "right": null,
            "top": null,
            "visibility": null,
            "width": null
          }
        },
        "0541f15149984438954b8319a0eae5c1": {
          "model_module": "@jupyter-widgets/base",
          "model_name": "LayoutModel",
          "model_module_version": "1.2.0",
          "state": {
            "_model_module": "@jupyter-widgets/base",
            "_model_module_version": "1.2.0",
            "_model_name": "LayoutModel",
            "_view_count": null,
            "_view_module": "@jupyter-widgets/base",
            "_view_module_version": "1.2.0",
            "_view_name": "LayoutView",
            "align_content": null,
            "align_items": null,
            "align_self": null,
            "border": null,
            "bottom": null,
            "display": null,
            "flex": null,
            "flex_flow": null,
            "grid_area": null,
            "grid_auto_columns": null,
            "grid_auto_flow": null,
            "grid_auto_rows": null,
            "grid_column": null,
            "grid_gap": null,
            "grid_row": null,
            "grid_template_areas": null,
            "grid_template_columns": null,
            "grid_template_rows": null,
            "height": null,
            "justify_content": null,
            "justify_items": null,
            "left": null,
            "margin": null,
            "max_height": null,
            "max_width": null,
            "min_height": null,
            "min_width": null,
            "object_fit": null,
            "object_position": null,
            "order": null,
            "overflow": null,
            "overflow_x": null,
            "overflow_y": null,
            "padding": null,
            "right": null,
            "top": null,
            "visibility": null,
            "width": null
          }
        },
        "ccb850ea14ed4d4094cf87321dde603d": {
          "model_module": "@jupyter-widgets/controls",
          "model_name": "DescriptionStyleModel",
          "model_module_version": "1.5.0",
          "state": {
            "_model_module": "@jupyter-widgets/controls",
            "_model_module_version": "1.5.0",
            "_model_name": "DescriptionStyleModel",
            "_view_count": null,
            "_view_module": "@jupyter-widgets/base",
            "_view_module_version": "1.2.0",
            "_view_name": "StyleView",
            "description_width": ""
          }
        },
        "3ff8ff820111480ca10e4f1eaa56a1e5": {
          "model_module": "@jupyter-widgets/base",
          "model_name": "LayoutModel",
          "model_module_version": "1.2.0",
          "state": {
            "_model_module": "@jupyter-widgets/base",
            "_model_module_version": "1.2.0",
            "_model_name": "LayoutModel",
            "_view_count": null,
            "_view_module": "@jupyter-widgets/base",
            "_view_module_version": "1.2.0",
            "_view_name": "LayoutView",
            "align_content": null,
            "align_items": null,
            "align_self": null,
            "border": null,
            "bottom": null,
            "display": null,
            "flex": null,
            "flex_flow": null,
            "grid_area": null,
            "grid_auto_columns": null,
            "grid_auto_flow": null,
            "grid_auto_rows": null,
            "grid_column": null,
            "grid_gap": null,
            "grid_row": null,
            "grid_template_areas": null,
            "grid_template_columns": null,
            "grid_template_rows": null,
            "height": null,
            "justify_content": null,
            "justify_items": null,
            "left": null,
            "margin": null,
            "max_height": null,
            "max_width": null,
            "min_height": null,
            "min_width": null,
            "object_fit": null,
            "object_position": null,
            "order": null,
            "overflow": null,
            "overflow_x": null,
            "overflow_y": null,
            "padding": null,
            "right": null,
            "top": null,
            "visibility": null,
            "width": null
          }
        },
        "afd27ff50d254c379a9d7d4c32867f44": {
          "model_module": "@jupyter-widgets/controls",
          "model_name": "ProgressStyleModel",
          "model_module_version": "1.5.0",
          "state": {
            "_model_module": "@jupyter-widgets/controls",
            "_model_module_version": "1.5.0",
            "_model_name": "ProgressStyleModel",
            "_view_count": null,
            "_view_module": "@jupyter-widgets/base",
            "_view_module_version": "1.2.0",
            "_view_name": "StyleView",
            "bar_color": null,
            "description_width": ""
          }
        },
        "5b972e38cfaa46e4ba231407e194db1f": {
          "model_module": "@jupyter-widgets/base",
          "model_name": "LayoutModel",
          "model_module_version": "1.2.0",
          "state": {
            "_model_module": "@jupyter-widgets/base",
            "_model_module_version": "1.2.0",
            "_model_name": "LayoutModel",
            "_view_count": null,
            "_view_module": "@jupyter-widgets/base",
            "_view_module_version": "1.2.0",
            "_view_name": "LayoutView",
            "align_content": null,
            "align_items": null,
            "align_self": null,
            "border": null,
            "bottom": null,
            "display": null,
            "flex": null,
            "flex_flow": null,
            "grid_area": null,
            "grid_auto_columns": null,
            "grid_auto_flow": null,
            "grid_auto_rows": null,
            "grid_column": null,
            "grid_gap": null,
            "grid_row": null,
            "grid_template_areas": null,
            "grid_template_columns": null,
            "grid_template_rows": null,
            "height": null,
            "justify_content": null,
            "justify_items": null,
            "left": null,
            "margin": null,
            "max_height": null,
            "max_width": null,
            "min_height": null,
            "min_width": null,
            "object_fit": null,
            "object_position": null,
            "order": null,
            "overflow": null,
            "overflow_x": null,
            "overflow_y": null,
            "padding": null,
            "right": null,
            "top": null,
            "visibility": null,
            "width": null
          }
        },
        "8dd7efc34f09413289600ba6d65b122f": {
          "model_module": "@jupyter-widgets/controls",
          "model_name": "DescriptionStyleModel",
          "model_module_version": "1.5.0",
          "state": {
            "_model_module": "@jupyter-widgets/controls",
            "_model_module_version": "1.5.0",
            "_model_name": "DescriptionStyleModel",
            "_view_count": null,
            "_view_module": "@jupyter-widgets/base",
            "_view_module_version": "1.2.0",
            "_view_name": "StyleView",
            "description_width": ""
          }
        },
        "22e053df54ab4f929d77622184240a96": {
          "model_module": "@jupyter-widgets/controls",
          "model_name": "HBoxModel",
          "model_module_version": "1.5.0",
          "state": {
            "_dom_classes": [],
            "_model_module": "@jupyter-widgets/controls",
            "_model_module_version": "1.5.0",
            "_model_name": "HBoxModel",
            "_view_count": null,
            "_view_module": "@jupyter-widgets/controls",
            "_view_module_version": "1.5.0",
            "_view_name": "HBoxView",
            "box_style": "",
            "children": [
              "IPY_MODEL_b87b5a8ccbd845bba14c034af52d1bdc",
              "IPY_MODEL_16eafc6b2da443a7a28e65e0904e1d4f",
              "IPY_MODEL_e001039a267046248317e95776940cc7"
            ],
            "layout": "IPY_MODEL_7504d75136644712bd8b749acdcd6cd6"
          }
        },
        "b87b5a8ccbd845bba14c034af52d1bdc": {
          "model_module": "@jupyter-widgets/controls",
          "model_name": "HTMLModel",
          "model_module_version": "1.5.0",
          "state": {
            "_dom_classes": [],
            "_model_module": "@jupyter-widgets/controls",
            "_model_module_version": "1.5.0",
            "_model_name": "HTMLModel",
            "_view_count": null,
            "_view_module": "@jupyter-widgets/controls",
            "_view_module_version": "1.5.0",
            "_view_name": "HTMLView",
            "description": "",
            "description_tooltip": null,
            "layout": "IPY_MODEL_18d5e11e741c4422ae4eb0eeedf8fa59",
            "placeholder": "​",
            "style": "IPY_MODEL_0d52c4061d004e12bf338e68a565123b",
            "value": "100%"
          }
        },
        "16eafc6b2da443a7a28e65e0904e1d4f": {
          "model_module": "@jupyter-widgets/controls",
          "model_name": "FloatProgressModel",
          "model_module_version": "1.5.0",
          "state": {
            "_dom_classes": [],
            "_model_module": "@jupyter-widgets/controls",
            "_model_module_version": "1.5.0",
            "_model_name": "FloatProgressModel",
            "_view_count": null,
            "_view_module": "@jupyter-widgets/controls",
            "_view_module_version": "1.5.0",
            "_view_name": "ProgressView",
            "bar_style": "success",
            "description": "",
            "description_tooltip": null,
            "layout": "IPY_MODEL_ea14be06af4a473ead9208c03033b9a1",
            "max": 100,
            "min": 0,
            "orientation": "horizontal",
            "style": "IPY_MODEL_e50a893b9e274167afb756e9c43a9a39",
            "value": 100
          }
        },
        "e001039a267046248317e95776940cc7": {
          "model_module": "@jupyter-widgets/controls",
          "model_name": "HTMLModel",
          "model_module_version": "1.5.0",
          "state": {
            "_dom_classes": [],
            "_model_module": "@jupyter-widgets/controls",
            "_model_module_version": "1.5.0",
            "_model_name": "HTMLModel",
            "_view_count": null,
            "_view_module": "@jupyter-widgets/controls",
            "_view_module_version": "1.5.0",
            "_view_name": "HTMLView",
            "description": "",
            "description_tooltip": null,
            "layout": "IPY_MODEL_05f8ede771b549f0b0d5addd3e81c2e9",
            "placeholder": "​",
            "style": "IPY_MODEL_f53f3137542f452e91143c15288bf453",
            "value": " 100/100 [00:19&lt;00:00,  5.40it/s]"
          }
        },
        "7504d75136644712bd8b749acdcd6cd6": {
          "model_module": "@jupyter-widgets/base",
          "model_name": "LayoutModel",
          "model_module_version": "1.2.0",
          "state": {
            "_model_module": "@jupyter-widgets/base",
            "_model_module_version": "1.2.0",
            "_model_name": "LayoutModel",
            "_view_count": null,
            "_view_module": "@jupyter-widgets/base",
            "_view_module_version": "1.2.0",
            "_view_name": "LayoutView",
            "align_content": null,
            "align_items": null,
            "align_self": null,
            "border": null,
            "bottom": null,
            "display": null,
            "flex": null,
            "flex_flow": null,
            "grid_area": null,
            "grid_auto_columns": null,
            "grid_auto_flow": null,
            "grid_auto_rows": null,
            "grid_column": null,
            "grid_gap": null,
            "grid_row": null,
            "grid_template_areas": null,
            "grid_template_columns": null,
            "grid_template_rows": null,
            "height": null,
            "justify_content": null,
            "justify_items": null,
            "left": null,
            "margin": null,
            "max_height": null,
            "max_width": null,
            "min_height": null,
            "min_width": null,
            "object_fit": null,
            "object_position": null,
            "order": null,
            "overflow": null,
            "overflow_x": null,
            "overflow_y": null,
            "padding": null,
            "right": null,
            "top": null,
            "visibility": null,
            "width": null
          }
        },
        "18d5e11e741c4422ae4eb0eeedf8fa59": {
          "model_module": "@jupyter-widgets/base",
          "model_name": "LayoutModel",
          "model_module_version": "1.2.0",
          "state": {
            "_model_module": "@jupyter-widgets/base",
            "_model_module_version": "1.2.0",
            "_model_name": "LayoutModel",
            "_view_count": null,
            "_view_module": "@jupyter-widgets/base",
            "_view_module_version": "1.2.0",
            "_view_name": "LayoutView",
            "align_content": null,
            "align_items": null,
            "align_self": null,
            "border": null,
            "bottom": null,
            "display": null,
            "flex": null,
            "flex_flow": null,
            "grid_area": null,
            "grid_auto_columns": null,
            "grid_auto_flow": null,
            "grid_auto_rows": null,
            "grid_column": null,
            "grid_gap": null,
            "grid_row": null,
            "grid_template_areas": null,
            "grid_template_columns": null,
            "grid_template_rows": null,
            "height": null,
            "justify_content": null,
            "justify_items": null,
            "left": null,
            "margin": null,
            "max_height": null,
            "max_width": null,
            "min_height": null,
            "min_width": null,
            "object_fit": null,
            "object_position": null,
            "order": null,
            "overflow": null,
            "overflow_x": null,
            "overflow_y": null,
            "padding": null,
            "right": null,
            "top": null,
            "visibility": null,
            "width": null
          }
        },
        "0d52c4061d004e12bf338e68a565123b": {
          "model_module": "@jupyter-widgets/controls",
          "model_name": "DescriptionStyleModel",
          "model_module_version": "1.5.0",
          "state": {
            "_model_module": "@jupyter-widgets/controls",
            "_model_module_version": "1.5.0",
            "_model_name": "DescriptionStyleModel",
            "_view_count": null,
            "_view_module": "@jupyter-widgets/base",
            "_view_module_version": "1.2.0",
            "_view_name": "StyleView",
            "description_width": ""
          }
        },
        "ea14be06af4a473ead9208c03033b9a1": {
          "model_module": "@jupyter-widgets/base",
          "model_name": "LayoutModel",
          "model_module_version": "1.2.0",
          "state": {
            "_model_module": "@jupyter-widgets/base",
            "_model_module_version": "1.2.0",
            "_model_name": "LayoutModel",
            "_view_count": null,
            "_view_module": "@jupyter-widgets/base",
            "_view_module_version": "1.2.0",
            "_view_name": "LayoutView",
            "align_content": null,
            "align_items": null,
            "align_self": null,
            "border": null,
            "bottom": null,
            "display": null,
            "flex": null,
            "flex_flow": null,
            "grid_area": null,
            "grid_auto_columns": null,
            "grid_auto_flow": null,
            "grid_auto_rows": null,
            "grid_column": null,
            "grid_gap": null,
            "grid_row": null,
            "grid_template_areas": null,
            "grid_template_columns": null,
            "grid_template_rows": null,
            "height": null,
            "justify_content": null,
            "justify_items": null,
            "left": null,
            "margin": null,
            "max_height": null,
            "max_width": null,
            "min_height": null,
            "min_width": null,
            "object_fit": null,
            "object_position": null,
            "order": null,
            "overflow": null,
            "overflow_x": null,
            "overflow_y": null,
            "padding": null,
            "right": null,
            "top": null,
            "visibility": null,
            "width": null
          }
        },
        "e50a893b9e274167afb756e9c43a9a39": {
          "model_module": "@jupyter-widgets/controls",
          "model_name": "ProgressStyleModel",
          "model_module_version": "1.5.0",
          "state": {
            "_model_module": "@jupyter-widgets/controls",
            "_model_module_version": "1.5.0",
            "_model_name": "ProgressStyleModel",
            "_view_count": null,
            "_view_module": "@jupyter-widgets/base",
            "_view_module_version": "1.2.0",
            "_view_name": "StyleView",
            "bar_color": null,
            "description_width": ""
          }
        },
        "05f8ede771b549f0b0d5addd3e81c2e9": {
          "model_module": "@jupyter-widgets/base",
          "model_name": "LayoutModel",
          "model_module_version": "1.2.0",
          "state": {
            "_model_module": "@jupyter-widgets/base",
            "_model_module_version": "1.2.0",
            "_model_name": "LayoutModel",
            "_view_count": null,
            "_view_module": "@jupyter-widgets/base",
            "_view_module_version": "1.2.0",
            "_view_name": "LayoutView",
            "align_content": null,
            "align_items": null,
            "align_self": null,
            "border": null,
            "bottom": null,
            "display": null,
            "flex": null,
            "flex_flow": null,
            "grid_area": null,
            "grid_auto_columns": null,
            "grid_auto_flow": null,
            "grid_auto_rows": null,
            "grid_column": null,
            "grid_gap": null,
            "grid_row": null,
            "grid_template_areas": null,
            "grid_template_columns": null,
            "grid_template_rows": null,
            "height": null,
            "justify_content": null,
            "justify_items": null,
            "left": null,
            "margin": null,
            "max_height": null,
            "max_width": null,
            "min_height": null,
            "min_width": null,
            "object_fit": null,
            "object_position": null,
            "order": null,
            "overflow": null,
            "overflow_x": null,
            "overflow_y": null,
            "padding": null,
            "right": null,
            "top": null,
            "visibility": null,
            "width": null
          }
        },
        "f53f3137542f452e91143c15288bf453": {
          "model_module": "@jupyter-widgets/controls",
          "model_name": "DescriptionStyleModel",
          "model_module_version": "1.5.0",
          "state": {
            "_model_module": "@jupyter-widgets/controls",
            "_model_module_version": "1.5.0",
            "_model_name": "DescriptionStyleModel",
            "_view_count": null,
            "_view_module": "@jupyter-widgets/base",
            "_view_module_version": "1.2.0",
            "_view_name": "StyleView",
            "description_width": ""
          }
        }
      }
    }
  },
  "cells": [
    {
      "cell_type": "markdown",
      "metadata": {
        "id": "view-in-github",
        "colab_type": "text"
      },
      "source": [
        "<a href=\"https://colab.research.google.com/github/arun6832/MARBLE-AI/blob/main/marble_ai_.ipynb\" target=\"_parent\"><img src=\"https://colab.research.google.com/assets/colab-badge.svg\" alt=\"Open In Colab\"/></a>"
      ]
    },
    {
      "cell_type": "markdown",
      "source": [
        "# **Creating a mask for the initial product**"
      ],
      "metadata": {
        "id": "pz71MEdoWk7b"
      }
    },
    {
      "cell_type": "code",
      "source": [
        "import cv2\n",
        "import numpy as np\n",
        "\n",
        "# Path to the shoe photo\n",
        "shoe_photo_path = \"input_product/product5.jpg\"\n",
        "\n",
        "# Read the shoe photo using OpenCV\n",
        "shoe_photo = cv2.imread(shoe_photo_path)\n",
        "\n",
        "# Convert the shoe photo to grayscale\n",
        "gray = cv2.cvtColor(shoe_photo, cv2.COLOR_BGR2GRAY)\n",
        "\n",
        "# Create a binary mask by thresholding the grayscale image\n",
        "_, mask = cv2.threshold(gray, 240, 255, cv2.THRESH_BINARY)\n",
        "\n",
        "# Invert the binary mask (black becomes white, and vice versa)\n",
        "mask = cv2.bitwise_not(mask)\n",
        "\n",
        "# Convert the mask to a 3-channel image (BGR) to match the shoe photo\n",
        "mask = cv2.cvtColor(mask, cv2.COLOR_GRAY2BGR)\n",
        "\n",
        "# Create a new image with a transparent background by applying the mask\n",
        "shoe_photo_with_transparent_bg = np.where(mask == 255, 0, shoe_photo)\n",
        "\n",
        "# Save the image with transparent background as a PNG file\n",
        "cv2.imwrite(\"masked/imagewit5.png\", shoe_photo_with_transparent_bg)\n"
      ],
      "metadata": {
        "colab": {
          "base_uri": "https://localhost:8080/"
        },
        "id": "JsmEW4VtLfrQ",
        "outputId": "a9d9822b-e646-4189-d355-e9168ffcb359"
      },
      "execution_count": 36,
      "outputs": [
        {
          "output_type": "execute_result",
          "data": {
            "text/plain": [
              "True"
            ]
          },
          "metadata": {},
          "execution_count": 36
        }
      ]
    },
    {
      "cell_type": "markdown",
      "source": [
        "# **Integrating the model with Hugging Face's Diffusers.**"
      ],
      "metadata": {
        "id": "2Y5taNY_Kz89"
      }
    },
    {
      "cell_type": "code",
      "source": [
        "import torch\n",
        "from diffusers import AutoPipelineForInpainting  # Importing the AutoPipelineForInpainting class from the diffusers library\n",
        "from diffusers.utils import load_image, make_image_grid  # Importing utility functions from the diffusers library\n",
        "\n",
        "# Create an instance of AutoPipelineForInpainting and load a pretrained model\n",
        "pipeline = AutoPipelineForInpainting.from_pretrained(\n",
        "    \"kandinsky-community/kandinsky-2-2-decoder-inpaint\", torch_dtype=torch.float16\n",
        ")\n",
        "\n",
        "# Enable model CPU offload for better performance on certain devices\n",
        "pipeline.enable_model_cpu_offload()\n"
      ],
      "metadata": {
        "colab": {
          "base_uri": "https://localhost:8080/",
          "height": 205,
          "referenced_widgets": [
            "a50af22f7c5d48df9e75f36d06f463c1",
            "683f2024be5a41a985c423a984ced039",
            "6b627619059b4dc1b33e1dad5f1beaec",
            "1dd0158126ee49dfbd2d1ecbf5f7256e",
            "0a5b85a29a4e42e89ecfe9ce06b2b490",
            "12d88fc200ce4be19be700f03185d3b8",
            "8196f438e3984ea59692baf763ef77cc",
            "b95ab1412a0441d794e01eb02ce1a925",
            "189119fc6889407fa7a4fda2e214a6ad",
            "075a114178d34ace88290883ebd50b8d",
            "0ef7f75250d940b68ab10f6bdaf6c844",
            "67bb52a6bf464782a26840c57cab12c4",
            "401db193a96843eaa1512de8c574b496",
            "2761d55af3474f7396cfb88af4d04ba3",
            "9c80a5bc7cb542949895bb5e74bbadf9",
            "3f8857f01eae45ee9ec6be0084118410",
            "95993e1361af473a9a1282cdce4a1ef7",
            "f20cb8dd4b8b4e25a4e5ac026c75713f",
            "b3038759e760451bad5ce00fbb05eedb",
            "bd996cbf8e844a09a28b90efdce12f08",
            "9edeaa691bc14ac3a33c7df8baddc438",
            "a44c4575fce04151af40669e79562539"
          ]
        },
        "id": "AkZaIvwGLvwp",
        "outputId": "3494d0fa-d290-4712-ac01-3f72c679398f"
      },
      "execution_count": 1,
      "outputs": [
        {
          "output_type": "stream",
          "name": "stderr",
          "text": [
            "/usr/local/lib/python3.10/dist-packages/huggingface_hub/utils/_token.py:88: UserWarning: \n",
            "The secret `HF_TOKEN` does not exist in your Colab secrets.\n",
            "To authenticate with the Hugging Face Hub, create a token in your settings tab (https://huggingface.co/settings/tokens), set it as secret in your Google Colab and restart your session.\n",
            "You will be able to reuse this secret in all of your notebooks.\n",
            "Please note that authentication is recommended but still optional to access public models or datasets.\n",
            "  warnings.warn(\n"
          ]
        },
        {
          "output_type": "display_data",
          "data": {
            "text/plain": [
              "Loading pipeline components...:   0%|          | 0/3 [00:00<?, ?it/s]"
            ],
            "application/vnd.jupyter.widget-view+json": {
              "version_major": 2,
              "version_minor": 0,
              "model_id": "a50af22f7c5d48df9e75f36d06f463c1"
            }
          },
          "metadata": {}
        },
        {
          "output_type": "display_data",
          "data": {
            "text/plain": [
              "Loading pipeline components...:   0%|          | 0/6 [00:00<?, ?it/s]"
            ],
            "application/vnd.jupyter.widget-view+json": {
              "version_major": 2,
              "version_minor": 0,
              "model_id": "67bb52a6bf464782a26840c57cab12c4"
            }
          },
          "metadata": {}
        }
      ]
    },
    {
      "cell_type": "code",
      "source": [
        "init_image = load_image(\"input_product/product5.jpg\")  # Loading the initial product image\n",
        "mask_image = load_image(\"masked/cimagewit5.png\")  # Loading the image with the transparent background mask applied"
      ],
      "metadata": {
        "id": "ZgmtsVqENqw0"
      },
      "execution_count": 37,
      "outputs": []
    },
    {
      "cell_type": "markdown",
      "source": [
        "# **Prompting for the background image and adding it to the non-masked parts of the product image**"
      ],
      "metadata": {
        "id": "dDuqbLhuK-ji"
      }
    },
    {
      "cell_type": "code",
      "source": [
        "prompt = \"Create an image of a versatile hybrid camera with interchangeable lenses and customizable settings, displayed against a backdrop of creative photography projects and artistic inspiration, appealing to photographers who value creativity and flexibility.\"\n",
        "# Using the pipeline to generate an image based on the prompt, with a specified initial image and mask image\n",
        "image = pipeline(prompt=prompt, negative_prompt=negative_prompt, image=init_image, mask_image=mask_image).images[0]\n",
        "# Saving the generated image to the output_folder with the name camera5.jpg\n",
        "image.save(\"output_folder/camera5.jpg\")\n"
      ],
      "metadata": {
        "colab": {
          "base_uri": "https://localhost:8080/",
          "height": 81,
          "referenced_widgets": [
            "234e91b0af6947dfbf6ecd34b5120ebd",
            "b2f06445c3c7415dafa1ca92dfd38938",
            "d2335718044e49b6abcf65126edef29f",
            "cbe96f487eca4285a141f1253e20332e",
            "07259f72ab7747daa1f7c977ef5f4004",
            "0541f15149984438954b8319a0eae5c1",
            "ccb850ea14ed4d4094cf87321dde603d",
            "3ff8ff820111480ca10e4f1eaa56a1e5",
            "afd27ff50d254c379a9d7d4c32867f44",
            "5b972e38cfaa46e4ba231407e194db1f",
            "8dd7efc34f09413289600ba6d65b122f",
            "22e053df54ab4f929d77622184240a96",
            "b87b5a8ccbd845bba14c034af52d1bdc",
            "16eafc6b2da443a7a28e65e0904e1d4f",
            "e001039a267046248317e95776940cc7",
            "7504d75136644712bd8b749acdcd6cd6",
            "18d5e11e741c4422ae4eb0eeedf8fa59",
            "0d52c4061d004e12bf338e68a565123b",
            "ea14be06af4a473ead9208c03033b9a1",
            "e50a893b9e274167afb756e9c43a9a39",
            "05f8ede771b549f0b0d5addd3e81c2e9",
            "f53f3137542f452e91143c15288bf453"
          ]
        },
        "id": "nGRewsnjN0fZ",
        "outputId": "9d8ae986-a555-496c-ed79-327c59d6f512"
      },
      "execution_count": 43,
      "outputs": [
        {
          "output_type": "display_data",
          "data": {
            "text/plain": [
              "  0%|          | 0/25 [00:00<?, ?it/s]"
            ],
            "application/vnd.jupyter.widget-view+json": {
              "version_major": 2,
              "version_minor": 0,
              "model_id": "234e91b0af6947dfbf6ecd34b5120ebd"
            }
          },
          "metadata": {}
        },
        {
          "output_type": "display_data",
          "data": {
            "text/plain": [
              "  0%|          | 0/100 [00:00<?, ?it/s]"
            ],
            "application/vnd.jupyter.widget-view+json": {
              "version_major": 2,
              "version_minor": 0,
              "model_id": "22e053df54ab4f929d77622184240a96"
            }
          },
          "metadata": {}
        }
      ]
    },
    {
      "cell_type": "markdown",
      "source": [
        "# **Prompts I have Used**"
      ],
      "metadata": {
        "id": "GErTF-6QLSrL"
      }
    },
    {
      "cell_type": "markdown",
      "source": [
        "**Shoe**"
      ],
      "metadata": {
        "id": "xc7UT00JB0rN"
      }
    },
    {
      "cell_type": "code",
      "source": [
        "# A photorealistic image of the brown leather loafers displayed on a plush, velvet platform within a luxurious retail store. High-end designer clothing hangs neatly on racks in the background. Spotlights illuminate the shoes, creating a dramatic effect\n",
        "# A photorealistic close-up of the brown leather loafers resting on a sleek, modern glass desk in a brightly lit office. Skyscrapers are visible through a large window in the background. Sunlight streams through the window, casting a warm glow on the shoes.\n",
        "# A photorealistic image of a pair of brown leather loafers resting on a natural stone walkway. The background is blurred greenery, suggesting a park or outdoor setting. The focus remains on the shoes.\n",
        "# A photorealistic image of the aftershave bottle displayed on a vintage wooden shelf in an old-fashioned barbershop. Leather barber chairs, shaving tools, and framed photographs line the background for a nostalgic feel\n",
        "# A photorealistic image of the aftershave bottle placed on a leather-bound book in a dimly lit study. A globe, antique pen, and a glass of whiskey are subtly visible in the background.\n",
        "# A photorealistic image of the aftershave bottle alongside a tailors measuring tape, fabric swatches, and a mannequin in a custom tailor shop. The setting evokes a sense of elegance and refinement.\n",
        "# A photorealistic image of the aftershave bottle displayed on a vintage wooden shelf in an old-fashioned barbershop. Leather barber chairs, shaving tools, and framed photographs line the background for a nostalgic feel.\n",
        "# A photorealistic close-up of the aftershave bottle on a marble countertop in a luxurious bathroom. A sleek shaving brush, a high-end watch, and folded towels create a sophisticated setting.\"\n",
        "# A photorealistic close-up of the ring resting on a plush, deep red velvet cushion. Soft, diffused light highlights the rings brilliance and the luxurious texture of the fabric.\n",
        "# A photorealistic image of the ring placed on a bed of velvety rose petals,Soft, filtered light creates a romantic atmosphere,8k\n",
        "# A photorealistic image of the ring nestled in the sand on a beach at sunset,soft waves and a breathtaking warm glow, romantic and dreamy setting,8k\n",
        "# A photorealistic image of a ring displayed on a velvet pedestal in a luxurious jewelry boutique. Light rays stream through a large window, illuminating the ring. Glass cases filled with other precious jewels are visible in the blurred background\n",
        "# A photorealistic image of a ring displayed in a jewelry shop. Light rays stream through a window, casting a warm spotlight on the ring and highlighting its brilliance\n",
        "# A photorealistic image of a natural shaving soap resting on wooden table which has placed in a forest while some of the sun rays falling on the table ,8k\n",
        "# A photorealistic image of a natural shaving soap resting on wooden table which has placed in a shop people were in the shop where there is no sun light at all its all night the tubelight rays was falling on the table  ,8k"
      ],
      "metadata": {
        "id": "oEegscuKhyEP"
      },
      "execution_count": null,
      "outputs": []
    },
    {
      "cell_type": "markdown",
      "source": [
        "**Shaving Soap**"
      ],
      "metadata": {
        "id": "k2yi69VcB2n4"
      }
    },
    {
      "cell_type": "code",
      "source": [
        "# Create a visual of a luxurious shaving soap surrounded by a backdrop of rich, dark wood and vintage shaving tools, evoking a classic gentleman's grooming experience.\n",
        "# Illustrate a shaving soap with natural, organic ingredients, set against a backdrop of fresh herbs and botanicals, conveying a sense of purity and freshness.\n",
        "# Imagine a shaving soap designed for adventurers, featuring rugged packaging and hints of pine and cedarwood, capturing the essence of the great outdoors.\n",
        "# Depict a shaving soap inspired by a tropical paradise, with vibrant colors and exotic scents like coconut and lime, transporting users to a sunny beach getaway.\n",
        "# Picture a shaving soap crafted for urban sophisticates, showcasing sleek, modern packaging and a sophisticated fragrance blend of leather and spices.\n",
        "# Visualize a shaving soap tailored for athletes, with energizing scents and invigorating ingredients like menthol and eucalyptus, perfect for a refreshing shave post-workout.\n",
        "# Envision a shaving soap inspired by a cozy fireside retreat, featuring warm, comforting scents like vanilla and sandalwood, ideal for a relaxing evening ritual.\n",
        "# Create an image of a shaving soap designed for history buffs, with packaging reminiscent of vintage apothecary jars and a traditional, timeless fragrance profile.\n",
        "# Illustrate a shaving soap made for the environmentally conscious, featuring sustainable packaging and earthy scents like patchouli and vetiver, promoting eco-friendly grooming.\n",
        "# Imagine a shaving soap tailored for creative souls, with artistic packaging and an intriguing, unconventional fragrance blend that sparks imagination and inspiration."
      ],
      "metadata": {
        "id": "oqtV93xJ54Ne"
      },
      "execution_count": null,
      "outputs": []
    },
    {
      "cell_type": "markdown",
      "source": [
        "**Ring**"
      ],
      "metadata": {
        "id": "PL9-1rLAB87K"
      }
    },
    {
      "cell_type": "code",
      "source": [
        "# Picture a dazzling diamond ring set against a backdrop of sparkling city lights, capturing the glamour and sophistication of urban evenings.\n",
        "# Imagine an elegant vintage-inspired ring with intricate filigree details, showcased against a background of antique lace and delicate floral motifs.\n",
        "# Visualize a bold and modern ring design featuring sleek lines and a pop of vibrant gemstone color, set against a minimalist backdrop for a contemporary feel.\n",
        "# Create an image of a nature-inspired ring with organic shapes and motifs, nestled amidst lush greenery and blooming flowers, evoking a sense of natural beauty.\n",
        "# Depict a romantic engagement ring with a shimmering halo of diamonds, showcased against a soft, dreamy backdrop of rose petals and candlelight.\n",
        "# Illustrate a unique and artistic ring design, featuring unconventional materials or shapes, set against an abstract background to highlight its creative essence.\n",
        "# Envision a vintage-style ring with an old-world charm, displayed against a backdrop of vintage books and antique furniture, invoking a sense of nostalgia.\n",
        "# Picture a minimalist and chic ring design, showcased against a backdrop of modern architecture and clean lines, perfect for the contemporary minimalist.\n",
        "# Create an image of a celestial-themed ring with celestial motifs like stars and moons, set against a backdrop of a night sky filled with twinkling stars.\n",
        "# Imagine a personalized ring design with meaningful engravings or custom elements, set against a background that reflects the wearer's interests or passions, making it a truly unique piece."
      ],
      "metadata": {
        "id": "OAMsoWjG7x2c"
      },
      "execution_count": null,
      "outputs": []
    },
    {
      "cell_type": "markdown",
      "source": [
        "**Aftershave**"
      ],
      "metadata": {
        "id": "6UWS8D9ZB_IZ"
      }
    },
    {
      "cell_type": "code",
      "source": [
        "# Create an image of a classic aftershave bottle with a timeless design, set against a backdrop of traditional barber tools like straight razors and shaving brushes, evoking a sense of old-school grooming.\n",
        "# Picture a refreshing aftershave with cooling menthol and a crisp citrus scent, showcased against a backdrop of frosty ice cubes and citrus slices, perfect for a revitalizing post-shave experience.\n",
        "# Illustrate an aftershave inspired by the sea, featuring marine notes and a hint of salt air, set against a background of ocean waves and sandy beaches, capturing the essence of coastal living.\n",
        "# Envision a luxurious aftershave crafted with premium ingredients like sandalwood and leather, displayed against a backdrop of rich wood and leather furnishings, exuding elegance and sophistication.\n",
        "# Create an image of a soothing aftershave with calming lavender and chamomile, set against a backdrop of a tranquil spa environment with soft lighting and relaxing music, promoting post-shave relaxation.\n",
        "# Imagine an aftershave designed for outdoor enthusiasts, with earthy notes like cedarwood and pine, showcased against a backdrop of rugged landscapes and outdoor gear, perfect for adventurers.\n",
        "# Picture an exotic aftershave with spicy notes like cardamom and ginger, displayed against a backdrop of vibrant spices and exotic fruits, transporting users to distant lands with every application.\n",
        "# Depict a modern aftershave with a sleek, minimalist design, set against a backdrop of contemporary grooming products and minimalist decor, appealing to the style-conscious individual.\n",
        "# Illustrate an aftershave tailored for sensitive skin, featuring gentle ingredients like aloe vera and chamomile, showcased against a backdrop of soft fabrics and hypoallergenic skincare products, ideal for soothing irritated skin post-shave.\n",
        "# Create an image of a vibrant aftershave with energizing citrus notes and a hint of peppermint, displayed against a backdrop of bright colors and lively patterns, invigorating users with its refreshing scent."
      ],
      "metadata": {
        "id": "Eq4e17-f80hI"
      },
      "execution_count": null,
      "outputs": []
    },
    {
      "cell_type": "markdown",
      "source": [
        "**Camera**"
      ],
      "metadata": {
        "id": "C5_y05qqCDZR"
      }
    },
    {
      "cell_type": "code",
      "source": [
        "# Create an image of a sleek and modern DSLR camera, set against a backdrop of professional photography equipment like lenses, tripods, and lighting setups, evoking the world of professional photography.\n",
        "# Picture a vintage film camera with a timeless design, displayed against a backdrop of old photographs and nostalgic memorabilia, capturing the charm of analog photography.\n",
        "# Illustrate a compact and portable mirrorless camera, showcased against a backdrop of scenic landscapes and travel essentials, perfect for capturing adventures on the go.\n",
        "# Envision a high-tech digital camera with advanced features like 4K video recording and image stabilization, set against a backdrop of futuristic technology and digital gadgets, appealing to tech enthusiasts.\n",
        "# Create an image of a rugged and weather-sealed action camera, displayed against a backdrop of extreme sports equipment and outdoor adventures, designed for capturing adrenaline-pumping moments.\n",
        "# Imagine a vintage-inspired instant camera with retro styling, showcased against a backdrop of Polaroid snapshots and colorful film packs, bringing back the nostalgia of instant photography.\n",
        "# Picture a professional-grade cinema camera with cinematic lenses and filmmaking accessories, set against a backdrop of film reels and director's chairs, embodying the art of cinematic storytelling.\n",
        "# Depict a specialized macro photography camera with close-up lenses and macro subjects like flowers and insects, displayed against a backdrop of intricate details and miniature worlds, perfect for macro enthusiasts.\n",
        "# Illustrate a mirrorless camera designed for vlogging and content creation, showcased against a backdrop of social media icons and video editing software, catering to the needs of modern content creators.\n",
        "# Create an image of a versatile hybrid camera with interchangeable lenses and customizable settings, displayed against a backdrop of creative photography projects and artistic inspiration, appealing to photographers who value creativity and flexibility."
      ],
      "metadata": {
        "id": "M55ZtRg09zsS"
      },
      "execution_count": null,
      "outputs": []
    }
  ]
}